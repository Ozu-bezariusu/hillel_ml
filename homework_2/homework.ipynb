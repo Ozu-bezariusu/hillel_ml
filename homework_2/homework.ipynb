{
 "cells": [
  {
   "cell_type": "markdown",
   "metadata": {},
   "source": [
    "# Content\n",
    "* [Part 1. NumPy](#numpy_topic)\n",
    "* [Part 2. Coding warm-up with Numpy and Matplotlib](#part_2)\n",
    "* [Part 3. Pandas and Matplotlib](#part_3)"
   ]
  },
  {
   "cell_type": "code",
   "execution_count": 20,
   "metadata": {},
   "outputs": [],
   "source": [
    "import numpy as np\n",
    "import pandas as pd\n",
    "import matplotlib.pyplot as plt"
   ]
  },
  {
   "cell_type": "markdown",
   "metadata": {},
   "source": [
    "## Part 1. NumPy\n",
    "<a id='numpy_topic'></a>"
   ]
  },
  {
   "cell_type": "code",
   "execution_count": 21,
   "metadata": {},
   "outputs": [
    {
     "data": {
      "text/plain": [
       "array([0., 0., 0., 0., 0., 0., 0., 0., 0., 0.])"
      ]
     },
     "execution_count": 21,
     "metadata": {},
     "output_type": "execute_result"
    }
   ],
   "source": [
    "# Create a null vector of size 10\n",
    "null_vector = np.zeros(10)\n",
    "null_vector"
   ]
  },
  {
   "cell_type": "code",
   "execution_count": 22,
   "metadata": {},
   "outputs": [
    {
     "name": "stdout",
     "output_type": "stream",
     "text": [
      "[299 300 301 303 304 306 307 309 310 311 313 314 316 317 319 320 321 323\n",
      " 324 326 327 329 330 331 333 334 336 337 339 340 341 343 344 346 347 349\n",
      " 350 351 353 354 356 357 359 360 361 363 364 366 367 369]\n",
      "\n",
      " Another approach: \n",
      "\n",
      "[299 300 301 302 303 304 305 306 307 308 309 310 311 312 313 314 315 316\n",
      " 317 318 319 320 321 322 323 324 325 326 327 328 329 330 331 332 333 334\n",
      " 335 336 337 338 339 340 341 342 343 344 345 346 347 348 349 350 351 352\n",
      " 353 354 355 356 357 358 359 360 361 362 363 364 365 366 367 368 369]\n"
     ]
    }
   ],
   "source": [
    "# Create a vector with values ranging from 299 to 369\n",
    "range_vector = np.linspace(start=299, stop=369, dtype=int)\n",
    "print(range_vector)\n",
    "\n",
    "print(\"\\n Another approach: \\n\")\n",
    "\n",
    "range_vector_2 = np.arange(start=299, stop=370, dtype=int)\n",
    "print(range_vector_2)"
   ]
  },
  {
   "cell_type": "code",
   "execution_count": 23,
   "metadata": {},
   "outputs": [
    {
     "data": {
      "text/plain": [
       "array([0., 0., 0., 0., 1., 0., 0., 0., 0., 0.])"
      ]
     },
     "execution_count": 23,
     "metadata": {},
     "output_type": "execute_result"
    }
   ],
   "source": [
    "# Make the 5th element of the existing vector to be 1\n",
    "\n",
    "null_vector[4] = 1\n",
    "null_vector"
   ]
  },
  {
   "cell_type": "code",
   "execution_count": 24,
   "metadata": {},
   "outputs": [
    {
     "name": "stdout",
     "output_type": "stream",
     "text": [
      "[369 367 366 364 363 361 360 359 357 356 354 353 351 350 349 347 346 344\n",
      " 343 341 340 339 337 336 334 333 331 330 329 327 326 324 323 321 320 319\n",
      " 317 316 314 313 311 310 309 307 306 304 303 301 300 299]\n",
      "\n",
      " Another approach: \n",
      "\n",
      "[369 367 366 364 363 361 360 359 357 356 354 353 351 350 349 347 346 344\n",
      " 343 341 340 339 337 336 334 333 331 330 329 327 326 324 323 321 320 319\n",
      " 317 316 314 313 311 310 309 307 306 304 303 301 300 299]\n"
     ]
    }
   ],
   "source": [
    "# Reverse the existing vector (the 1st element becomes the last one)\n",
    "reversed_range_vector = range_vector[::-1]\n",
    "print(reversed_range_vector)\n",
    "\n",
    "print(\"\\n Another approach: \\n\")\n",
    "reversed_range_vector_v2 = np.flip(range_vector)\n",
    "print(reversed_range_vector_v2)"
   ]
  },
  {
   "cell_type": "code",
   "execution_count": 25,
   "metadata": {},
   "outputs": [
    {
     "data": {
      "text/plain": [
       "array([[0, 1, 2],\n",
       "       [3, 4, 5],\n",
       "       [6, 7, 8]])"
      ]
     },
     "execution_count": 25,
     "metadata": {},
     "output_type": "execute_result"
    }
   ],
   "source": [
    "# Create a 3x3 matrix with values ranging from 0 to 8\n",
    "matrix = np.arange(start=0, stop=9, dtype=int).reshape(3,3)\n",
    "matrix"
   ]
  },
  {
   "cell_type": "code",
   "execution_count": 26,
   "metadata": {},
   "outputs": [
    {
     "name": "stdout",
     "output_type": "stream",
     "text": [
      "[[0.59760023 0.09346006 0.78561108]\n",
      " [0.21095156 0.15638469 0.5262767 ]\n",
      " [0.75391303 0.66294133 0.48048035]]\n",
      "\n",
      " Another approach: \n",
      "\n",
      "[[ 3.44248893 12.62242267  9.02698228]\n",
      " [10.54434775 13.06639226  7.07883463]\n",
      " [ 1.43555948  1.24838284 10.14125286]]\n"
     ]
    }
   ],
   "source": [
    "# Create a 3x3 matrix with a random float values\n",
    "random_matrix = np.random.rand(3,3)\n",
    "print(random_matrix)\n",
    "\n",
    "print(\"\\n Another approach: \\n\")\n",
    "random_matrix_v2 = np.random.uniform(low=0.5, high=13.3, size=(3,3))\n",
    "print(random_matrix_v2)\n"
   ]
  },
  {
   "cell_type": "code",
   "execution_count": 27,
   "metadata": {},
   "outputs": [
    {
     "name": "stdout",
     "output_type": "stream",
     "text": [
      "[[8 2 3]\n",
      " [2 7 1]\n",
      " [5 5 1]]\n"
     ]
    }
   ],
   "source": [
    "# Create a 3x3 matrix with a random int values\n",
    "random_int_matrix = np.random.randint(low=10,size=(3,3))\n",
    "print(random_int_matrix)"
   ]
  },
  {
   "cell_type": "code",
   "execution_count": 28,
   "metadata": {},
   "outputs": [
    {
     "name": "stdout",
     "output_type": "stream",
     "text": [
      "Matrix min is: 1\n",
      "Matrix max is: 8\n",
      "Matrix mean is: 3.7777777777777777 \n",
      "\n"
     ]
    }
   ],
   "source": [
    "# Find min, max and mean values of the existing matrix\n",
    "mtrx_min, mtrx_max, mtrx_mean = random_int_matrix.min(), random_int_matrix.max(), random_int_matrix.mean()\n",
    "print(\"Matrix min is: {}\\nMatrix max is: {}\\nMatrix mean is: {} \\n\".format(mtrx_min, mtrx_max, mtrx_mean))"
   ]
  },
  {
   "cell_type": "code",
   "execution_count": 29,
   "metadata": {},
   "outputs": [
    {
     "data": {
      "text/plain": [
       "array([8, 2, 3, 2, 7, 1, 5, 5, 1])"
      ]
     },
     "execution_count": 29,
     "metadata": {},
     "output_type": "execute_result"
    }
   ],
   "source": [
    "# Reshape the existing matrix into a vector\n",
    "mtrx_size = random_int_matrix.size\n",
    "reshaped_mtrx = np.reshape(random_int_matrix,mtrx_size)\n",
    "reshaped_mtrx"
   ]
  },
  {
   "cell_type": "code",
   "execution_count": 30,
   "metadata": {},
   "outputs": [
    {
     "data": {
      "text/plain": [
       "array([0, 8, 2, 3, 2, 7, 1, 5, 5, 1, 0])"
      ]
     },
     "execution_count": 30,
     "metadata": {},
     "output_type": "execute_result"
    }
   ],
   "source": [
    "# Add a border filled with 0's around the existing array\n",
    "padded_mtrx = np.pad(reshaped_mtrx, (1,1), 'constant', constant_values=(0, 0))\n",
    "padded_mtrx"
   ]
  },
  {
   "cell_type": "code",
   "execution_count": 31,
   "metadata": {},
   "outputs": [
    {
     "data": {
      "text/plain": [
       "array([[ 93, 151],\n",
       "       [125, 157],\n",
       "       [119, 159],\n",
       "       [ 92, 169],\n",
       "       [  7,  12]])"
      ]
     },
     "execution_count": 31,
     "metadata": {},
     "output_type": "execute_result"
    }
   ],
   "source": [
    "# Create 5x3 matrix and 3x2 matrix with a random int values, calculate dot-product of the created matrices\n",
    "mtrx_1 = np.random.randint(low=10,size=(5,3))\n",
    "mtrx_2 = np.random.randint(low=20,size=(3,2))\n",
    "\n",
    "dot_product = np.dot(mtrx_1, mtrx_2)\n",
    "dot_product"
   ]
  },
  {
   "cell_type": "code",
   "execution_count": 32,
   "metadata": {},
   "outputs": [
    {
     "name": "stdout",
     "output_type": "stream",
     "text": [
      "Original vector: [ 6.72638297  4.93391169  3.68940764 11.68838606  9.12502685]\n",
      "\n",
      "Modified vector: [-6.72638297 -4.93391169 -3.68940764 11.68838606  9.12502685]\n",
      "\n"
     ]
    }
   ],
   "source": [
    "# Create a vector with a random float values,\n",
    "# negate all elements which are between 3 and 8 (substitute original values with -1 * original value), in place.\n",
    "sample = np.random.uniform(low=0.5, high=13.3, size=(5,))\n",
    "print(f\"Original vector: {sample}\\n\")\n",
    "\n",
    "negator = np.vectorize(lambda t: t * -1 if t >=3 and t <=8 else t)\n",
    "modified_sample = negator(sample)\n",
    "print(f\"Modified vector: {modified_sample}\\n\")"
   ]
  },
  {
   "cell_type": "code",
   "execution_count": 33,
   "metadata": {},
   "outputs": [
    {
     "data": {
      "text/plain": [
       "array([[20, 21, 22, 23, 24, 25, 26],\n",
       "       [10, 11, 12, 13, 14, 15, 16]])"
      ]
     },
     "execution_count": 33,
     "metadata": {},
     "output_type": "execute_result"
    }
   ],
   "source": [
    "# Create 2 vectors of the same shape, stack them vertically\n",
    "shape = (7,)\n",
    "values_1 = np.arange(start=20, stop=27, dtype=int)\n",
    "values_2 = np.arange(start=10, stop=17, dtype=int)\n",
    "\n",
    "vector_1 = np.full(shape, values_1)\n",
    "vector_2 = np.full(shape, values_2)\n",
    "\n",
    "result_vertical = np.vstack((vector_1, vector_2))\n",
    "result_vertical"
   ]
  },
  {
   "cell_type": "code",
   "execution_count": 34,
   "metadata": {},
   "outputs": [
    {
     "data": {
      "text/plain": [
       "array([20, 21, 22, 23, 24, 25, 26, 10, 11, 12, 13, 14, 15, 16])"
      ]
     },
     "execution_count": 34,
     "metadata": {},
     "output_type": "execute_result"
    }
   ],
   "source": [
    "# Take the existing vestors, stack them horizontally\n",
    "result_horizontal = np.hstack((vector_1, vector_2))\n",
    "result_horizontal"
   ]
  },
  {
   "cell_type": "code",
   "execution_count": 35,
   "metadata": {},
   "outputs": [
    {
     "name": "stdout",
     "output_type": "stream",
     "text": [
      "Dimenstions of initial verically stack arrays is 2\n",
      "\n",
      "Flattened verically stack arrays: [20 21 22 23 24 25 26 10 11 12 13 14 15 16]\n",
      "\n",
      "Flattened verically stack arrays dimensions is: 1\n",
      "\n"
     ]
    }
   ],
   "source": [
    "# Flatten the resulted array\n",
    "flatten_res = result_vertical.flatten()\n",
    "print(f\"Dimenstions of initial verically stack arrays is {result_vertical.ndim}\\n\")\n",
    "print(f\"Flattened verically stack arrays: {flatten_res}\\n\")\n",
    "print(f\"Flattened verically stack arrays dimensions is: {flatten_res.ndim}\\n\")"
   ]
  },
  {
   "cell_type": "code",
   "execution_count": 36,
   "metadata": {},
   "outputs": [
    {
     "data": {
      "text/plain": [
       "array([20, 21, 22, 23, 24, 25,  0, 10, 11, 12, 13, 14, 15, 16])"
      ]
     },
     "execution_count": 36,
     "metadata": {},
     "output_type": "execute_result"
    }
   ],
   "source": [
    "# Replace the maximum value by 0 in the existing vector\n",
    "max_index = np.argmax(flatten_res)\n",
    "flatten_res[max_index] = 0\n",
    "flatten_res"
   ]
  },
  {
   "cell_type": "code",
   "execution_count": 37,
   "metadata": {},
   "outputs": [
    {
     "data": {
      "text/plain": [
       "False"
      ]
     },
     "execution_count": 37,
     "metadata": {},
     "output_type": "execute_result"
    }
   ],
   "source": [
    "# Create 2 random arrays A and B of the same shape, check if the created arrays are equal.\n",
    "shape = (4,3)\n",
    "a = np.random.randint(5, size=shape)\n",
    "b = np.random.randint(19, size=shape)\n",
    "\n",
    "equal = np.array_equal(a, b)\n",
    "equal\n"
   ]
  },
  {
   "cell_type": "code",
   "execution_count": 38,
   "metadata": {},
   "outputs": [
    {
     "name": "stdout",
     "output_type": "stream",
     "text": [
      "Original array:\n",
      " [[ 0 10]\n",
      " [ 6 14]\n",
      " [ 5 12]\n",
      " [ 8  0]\n",
      " [ 8 13]]\n",
      "\n",
      "Array after swapping 0th and 1st rows: \n",
      "[[ 6 14]\n",
      " [ 0 10]\n",
      " [ 5 12]\n",
      " [ 8  0]\n",
      " [ 8 13]]\n",
      "\n",
      "Another approach:\n",
      "\n",
      "Original array v1:\n",
      " [[13  4  1  6]\n",
      " [12  2  1  6]\n",
      " [ 6 11  9 14]\n",
      " [14  9  4 11]\n",
      " [10  6  4 11]\n",
      " [ 3 12  6  0]]\n",
      "\n",
      "Array after swapping 0th and 1st rows: \n",
      "[[12  2  1  6]\n",
      " [13  4  1  6]\n",
      " [ 6 11  9 14]\n",
      " [14  9  4 11]\n",
      " [10  6  4 11]\n",
      " [ 3 12  6  0]]\n",
      "\n"
     ]
    }
   ],
   "source": [
    "# Create 2D array or take any existinng 2D array, swap any 2 rows of this 2D array.\n",
    "arr = np.random.randint(15, size=(5,2))\n",
    "print(f\"Original array:\\n {arr}\\n\")\n",
    "arr[[0,1]] = arr[[1,0]]\n",
    "print(f\"Array after swapping 0th and 1st rows: \\n{arr}\\n\")\n",
    "\n",
    "print(\"Another approach:\\n\")\n",
    "arr_1 = np.random.randint(15, size=(6,4))\n",
    "print(f\"Original array v1:\\n {arr_1}\\n\")\n",
    "arr_1[[0,1]] = arr_1[[1,0]]\n",
    "print(f\"Array after swapping 0th and 1st rows: \\n{arr_1}\\n\")\n"
   ]
  },
  {
   "cell_type": "markdown",
   "metadata": {},
   "source": [
    "## Part 2. Coding warm-up with Numpy and Matplotlib\n",
    "<a id='part_2'></a>"
   ]
  },
  {
   "cell_type": "code",
   "execution_count": 39,
   "metadata": {},
   "outputs": [],
   "source": [
    "# 1. Create python function that calculates angle between 2 vectors in degrees (use numpy functions to implement the function).\n",
    "def get_vectors_angle(vector_1: np.ndarray, vector_2: np.ndarray) -> float:\n",
    "    # typing check\n",
    "    for arg_name, arg_value in locals().items():\n",
    "        if type(arg_value) != np.ndarray:\n",
    "            raise TypeError(f\"Unsupported argument type of arg {arg_name}\")\n",
    "        \n",
    "    vector_1_abs = np.linalg.norm(vector_1)\n",
    "    vector_2_abs = np.linalg.norm(vector_2)\n",
    "\n",
    "    cross_product = vector_1_abs * vector_2_abs\n",
    "    dot_product = np.dot(vector_1, vector_2)\n",
    "\n",
    "    angle_cos = dot_product / cross_product\n",
    "    angle_radians = np.arccos(angle_cos)\n",
    "    angle_degrees = np.degrees(angle_radians)\n",
    "    \n",
    "    return angle_degrees\n",
    "\n"
   ]
  },
  {
   "cell_type": "code",
   "execution_count": 40,
   "metadata": {},
   "outputs": [],
   "source": [
    "# Vectors\n",
    "\n",
    "a = np.array([1, 0, 0])\n",
    "b = np.array([0, 1, 0])\n",
    "\n",
    "c = np.array([1, 2, 3])\n",
    "d = np.array([3, 2, 1])\n",
    "\n",
    "f = np.array([1, 0.36, 0])\n",
    "g = np.array([-1, 0, 0])"
   ]
  },
  {
   "cell_type": "code",
   "execution_count": 41,
   "metadata": {},
   "outputs": [
    {
     "name": "stdout",
     "output_type": "stream",
     "text": [
      "Angle between a and b is: 90.0 degrees\n",
      "Angle between c and d is: 44.415308597192976 degrees\n",
      "Angle between f and g is: 160.20112364547506 degrees\n",
      "\n"
     ]
    }
   ],
   "source": [
    "# 2. Use your function to calculate angles between the next pairs of vectors\n",
    "ab_angle = get_vectors_angle(a,b)\n",
    "cd_angle = get_vectors_angle(c,d)\n",
    "fg_angle = get_vectors_angle(f,g)\n",
    "\n",
    "print(\n",
    "    f\"Angle between a and b is: {ab_angle} degrees\\n\"\n",
    "    f\"Angle between c and d is: {cd_angle} degrees\\n\"\n",
    "    f\"Angle between f and g is: {fg_angle} degrees\\n\"\n",
    "    )"
   ]
  },
  {
   "cell_type": "code",
   "execution_count": 42,
   "metadata": {},
   "outputs": [
    {
     "data": {
      "text/plain": [
       "<matplotlib.quiver.Quiver at 0x15da39550>"
      ]
     },
     "execution_count": 42,
     "metadata": {},
     "output_type": "execute_result"
    },
    {
     "data": {
      "image/png": "[encoded data removed]",
      "text/plain": [
       "<Figure size 640x480 with 1 Axes>"
      ]
     },
     "metadata": {},
     "output_type": "display_data"
    }
   ],
   "source": [
    "# 3. Visualize vectors in 2D space.\n",
    "vectors = np.array([a,b,c,d,f,g])\n",
    "vectors_amount = len(vectors)\n",
    "origins = np.array([np.zeros(vectors_amount), np.zeros(vectors_amount)])\n",
    "\n",
    " \n",
    "plt.quiver(*origins, vectors[:,0], vectors[:,1], color = ['r', 'b', 'g', 'c', 'm', 'y'], scale = 10)"
   ]
  },
  {
   "cell_type": "code",
   "execution_count": 43,
   "metadata": {},
   "outputs": [
    {
     "data": {
      "image/png": "[encoded data removed]",
      "text/plain": [
       "<Figure size 640x480 with 1 Axes>"
      ]
     },
     "metadata": {},
     "output_type": "display_data"
    }
   ],
   "source": [
    "V = np.array([[1,1], [-2,2], [4,-7]])\n",
    "origin = np.array([[0, 0, 0],[0, 0, 0]]) # origin point\n",
    "\n",
    "fig, ax = plt.subplots()\n",
    "ax.quiver(*origin, V[:,0], V[:,1], color=['r','b','g'], scale=21)\n",
    "\n",
    "# Annotate each vector with a title\n",
    "for i, vector in enumerate(V):\n",
    "    ax.text(vector[0], vector[1], f'Vector {i+1}', color='black', ha='center', va='bottom')\n",
    "\n",
    "plt.xlim(-10, 10)  # Adjust limits for better visualization\n",
    "plt.ylim(-10, 10)  # Adjust limits for better visualization\n",
    "plt.gca().set_aspect('equal', adjustable='box')  # Set aspect ratio to be equal\n",
    "plt.show()"
   ]
  },
  {
   "cell_type": "markdown",
   "metadata": {},
   "source": [
    "## Part 3. Pandas and Matplotlib\n",
    "<a id='part_3'></a>"
   ]
  },
  {
   "cell_type": "code",
   "execution_count": 44,
   "metadata": {},
   "outputs": [],
   "source": [
    "path_to_data = \"homework2_data.csv\"\n",
    "df = pd.read_csv(path_to_data)"
   ]
  },
  {
   "cell_type": "code",
   "execution_count": 45,
   "metadata": {},
   "outputs": [],
   "source": [
    "columns = df.columns"
   ]
  },
  {
   "cell_type": "code",
   "execution_count": 46,
   "metadata": {},
   "outputs": [
    {
     "name": "stdout",
     "output_type": "stream",
     "text": [
      "Values of delta_frame_time:\n",
      "\n",
      "[16 13 18 ...  2  2  1]\n",
      "\n",
      "\n",
      "\n",
      "Values of dns_answers_ttl:\n",
      "\n",
      "[7184  287   10 ...  621 2206 1098]\n",
      "\n",
      "\n",
      "\n",
      "Values of is_cc_provider:\n",
      "\n",
      "[0 0 0 ... 0 0 0]\n",
      "\n",
      "\n",
      "\n",
      "Values of is_ip_private:\n",
      "\n",
      "[1 1 1 ... 0 0 0]\n",
      "\n",
      "\n",
      "\n",
      "Values of delay:\n",
      "\n",
      "[ 0.18149184 -0.18759012  1.15169731 ...  0.01748343 -0.82443438\n",
      " -0.48816733]\n",
      "\n",
      "\n",
      "\n"
     ]
    }
   ],
   "source": [
    "# Review columns data\n",
    "for column in columns:\n",
    "    print(f\"Values of {column}:\\n\")\n",
    "    print(df[column].values)\n",
    "    print(\"\\n\\n\")"
   ]
  },
  {
   "cell_type": "code",
   "execution_count": 47,
   "metadata": {},
   "outputs": [
    {
     "data": {
      "text/plain": [
       "\"\\nColumns' data types\\n\\n* delta_frame_time: Continuous\\n* dns_answers_ttl: Discrete\\n* is_cc_provider: Nominal \\n* is_ip_private: Nominal\\n* delay: Continuous \\n\""
      ]
     },
     "execution_count": 47,
     "metadata": {},
     "output_type": "execute_result"
    }
   ],
   "source": [
    "# What type of data each column contains (ordinal, nominal, discerete or continuous)?\n",
    "\n",
    "\"\"\"\n",
    "Columns' data types\n",
    "\n",
    "* delta_frame_time: Continuous\n",
    "* dns_answers_ttl: Discrete\n",
    "* is_cc_provider: Nominal \n",
    "* is_ip_private: Nominal\n",
    "* delay: Continuous \n",
    "\"\"\""
   ]
  },
  {
   "cell_type": "code",
   "execution_count": 55,
   "metadata": {},
   "outputs": [
    {
     "data": {
      "image/png": "[encoded data removed]",
      "text/plain": [
       "<Figure size 1000x500 with 1 Axes>"
      ]
     },
     "metadata": {},
     "output_type": "display_data"
    },
    {
     "data": {
      "image/png": "[encoded data removed]",
      "text/plain": [
       "<Figure size 1000x500 with 1 Axes>"
      ]
     },
     "metadata": {},
     "output_type": "display_data"
    },
    {
     "data": {
      "image/png": "[encoded data removed]",
      "text/plain": [
       "<Figure size 1000x500 with 1 Axes>"
      ]
     },
     "metadata": {},
     "output_type": "display_data"
    },
    {
     "data": {
      "image/png": "[encoded data removed]",
      "text/plain": [
       "<Figure size 1000x500 with 1 Axes>"
      ]
     },
     "metadata": {},
     "output_type": "display_data"
    },
    {
     "data": {
      "image/png": "[encoded data removed]",
      "text/plain": [
       "<Figure size 1000x500 with 1 Axes>"
      ]
     },
     "metadata": {},
     "output_type": "display_data"
    }
   ],
   "source": [
    "# What is the distribution of each feature?\n",
    "\n",
    "\"\"\"\n",
    "Distribution of each feature is abnormal\n",
    "\"\"\"\n",
    "\n",
    "for column in columns:\n",
    "    fig, ax = plt.subplots(1, 1, figsize = [10, 5])\n",
    "\n",
    "    sample = df[column]\n",
    "\n",
    "    plt.hist(sample, bins = 10, rwidth = 0.95, align = 'left', alpha=0.5)\n",
    "    plt.axvline(sample.mean(), color = 'red', lw=3, linestyle='--')\n",
    "    plt.axvline(sample.median(), color = 'green', lw=3, linestyle='--')\n",
    "    plt.axvline(sample.mode()[0], color = 'black', lw=3, linestyle='--')\n",
    "\n",
    "    plt.title(column)\n",
    "\n",
    "    plt.show()"
   ]
  }
 ],
 "metadata": {
  "kernelspec": {
   "display_name": "hillel_hw_2",
   "language": "python",
   "name": "hillel_hw_2"
  },
  "language_info": {
   "codemirror_mode": {
    "name": "ipython",
    "version": 3
   },
   "file_extension": ".py",
   "mimetype": "text/x-python",
   "name": "python",
   "nbconvert_exporter": "python",
   "pygments_lexer": "ipython3",
   "version": "3.12.3"
  }
 },
 "nbformat": 4,
 "nbformat_minor": 2
}
